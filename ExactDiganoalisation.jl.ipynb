{
 "cells": [
  {
   "cell_type": "code",
   "execution_count": 3,
   "id": "graduate-michael",
   "metadata": {},
   "outputs": [],
   "source": [
    "using LinearAlgebra \n",
    "using Kronecker"
   ]
  },
  {
   "cell_type": "code",
   "execution_count": 9,
   "id": "utility-calcium",
   "metadata": {},
   "outputs": [],
   "source": [
    "X = [0 1 ; 1 0 ];\n",
    "Y = [0 -1im ; im 0 ];\n",
    "Z = [1 0 ; 0 -1 ];\n",
    "\n",
    "\n",
    "H=1/sqrt(2)*[1 1 ; 1 -1];\n",
    "\n",
    "S=[1 0; 0 im];\n",
    "T=[1 0; 0 exp(im*pi/4)];\n",
    "\n",
    "\n",
    "\n",
    "function RX(r)\n",
    "    exp(-im*r/2*X)\n",
    "end\n",
    "\n",
    "function RY(r)\n",
    "    exp(-im*r/2*Y)\n",
    "end\n",
    "\n",
    "function RZ(r)\n",
    "    exp(-im*r/2*Z)\n",
    "end\n",
    "\n",
    "\n",
    "CNOT=[1 0 0 0; 0 1 0 0; 0 0 0 1; 0 0 1 0];\n",
    "REVCNOT=kronecker(H, H)*CNOT*kronecker(H, H);\n",
    "\n",
    "\n",
    "\n",
    "\n",
    "\n",
    "o=pi/4;\n",
    "XRow=copy(kronecker(RX(o),RX(o),RX(o),RX(o),RX(o),RX(o),RX(o),RX(o),RX(o),RX(o),RX(o),RX(o)))\n",
    "ZRow=copy(kronecker(RZ(o),RZ(o),RZ(o),RZ(o),RZ(o),RZ(o),RZ(o),RZ(o),RZ(o),RZ(o),RZ(o),RZ(o)));\n",
    "UOdd=copy(kronecker(CNOT,CNOT,CNOT,CNOT,CNOT,CNOT))\n",
    "UEven=copy(kronecker(I(2),CNOT,CNOT,CNOT,CNOT,CNOT,I(2)));\n",
    "\n",
    "\n",
    "A=copy(XRow*ZRow*UEven*ZRow*XRow*UOdd*ZRow);\n"
   ]
  },
  {
   "cell_type": "code",
   "execution_count": 10,
   "id": "excess-treat",
   "metadata": {},
   "outputs": [
    {
     "data": {
      "text/plain": [
       "4095-element Vector{ComplexF64}:\n",
       "  6.174675790671103e-7 - 0.001896633128257027im\n",
       " 1.1585463747243452e-6 + 0.003258781827705564im\n",
       "  5.014443968942572e-7 + 0.0002383210652614964im\n",
       " 3.7729133625097333e-6 - 0.005757138172347468im\n",
       " 2.1023700522704303e-6 + 0.0076196476864259545im\n",
       "   4.28211494041264e-7 - 0.008274967086676093im\n",
       " 3.7349401971198404e-6 + 0.0091911761967057im\n",
       " 1.0669929836004677e-5 - 0.011810684914541382im\n",
       " 1.1897821811102105e-6 + 0.013790032010405849im\n",
       "  4.254675172843392e-6 + 0.0005849198951097907im\n",
       "  4.166305741404308e-6 - 0.015664355496460218im\n",
       "  7.852492382776077e-6 - 0.0009176391486760745im\n",
       " 4.1065406287676964e-6 + 0.018476071081746967im\n",
       "                       ⋮\n",
       " 1.0794490566179427e-5 - 0.01702043845068421im\n",
       "  3.744938315231039e-6 + 0.015261308315937989im\n",
       "  8.484216708404269e-6 - 0.013515055165325515im\n",
       " 1.7599976126492223e-6 + 0.011965387028148994im\n",
       "   8.30396054141147e-8 - 0.011656963850199958im\n",
       " 3.2446352008497215e-6 + 0.011055767973799448im\n",
       "  6.828147054993572e-6 - 0.008941549867104862im\n",
       "   2.22223903856289e-6 + 0.006756474199840425im\n",
       " 3.0929494163611793e-6 - 0.0012850897316520954im\n",
       " 1.7921968720191472e-7 - 0.003423797842108155im\n",
       " 1.1690962229415902e-6 + 0.0010146289524355372im\n",
       " 1.2685250816435456e-7 + 0.001047693874100106im"
      ]
     },
     "execution_count": 10,
     "metadata": {},
     "output_type": "execute_result"
    }
   ],
   "source": [
    "EigA=eigvals(A);\n",
    "EigA1=copy(EigA);\n",
    "ls = deleteat!(EigA1,1);\n",
    "la = deleteat!(EigA,length(EigA));\n",
    "m=copy(ls-la)\n",
    "\n",
    " "
   ]
  },
  {
   "cell_type": "code",
   "execution_count": 47,
   "id": "local-humidity",
   "metadata": {},
   "outputs": [
    {
     "data": {
      "text/plain": [
       "16×16 Matrix{ComplexF64}:\n",
       "  0.728553+0.0im              0.0-0.301777im   …     -0.125+0.0im\n",
       "       0.0-0.301777im    0.728553+0.0im                 0.0+0.0517767im\n",
       "       0.0-0.301777im      -0.125+0.0im                 0.0-0.301777im\n",
       "    -0.125+0.0im              0.0-0.301777im         -0.125+0.0im\n",
       "       0.0-0.301777im      -0.125+0.0im                 0.0+0.0517767im\n",
       "    -0.125+0.0im              0.0-0.301777im   …  0.0214466+0.0im\n",
       "    -0.125+0.0im              0.0+0.0517767im        -0.125+0.0im\n",
       "       0.0+0.0517767im     -0.125+0.0im                 0.0+0.0517767im\n",
       "       0.0-0.301777im      -0.125+0.0im                 0.0-0.301777im\n",
       "    -0.125+0.0im              0.0-0.301777im         -0.125+0.0im\n",
       "    -0.125+0.0im              0.0+0.0517767im  …   0.728553+0.0im\n",
       "       0.0+0.0517767im     -0.125+0.0im                 0.0-0.301777im\n",
       "    -0.125+0.0im              0.0+0.0517767im        -0.125+0.0im\n",
       "       0.0+0.0517767im     -0.125+0.0im                 0.0+0.0517767im\n",
       "       0.0+0.0517767im  0.0214466+0.0im                 0.0-0.301777im\n",
       " 0.0214466+0.0im              0.0+0.0517767im  …     -0.125+0.0im"
      ]
     },
     "execution_count": 47,
     "metadata": {},
     "output_type": "execute_result"
    }
   ],
   "source": []
  },
  {
   "cell_type": "code",
   "execution_count": 51,
   "id": "fixed-tolerance",
   "metadata": {},
   "outputs": [
    {
     "ename": "LoadError",
     "evalue": "MethodError: no method matching log(::Vector{ComplexF64})\n\u001b[0mClosest candidates are:\n\u001b[0m  log(\u001b[91m::StridedMatrix{T} where T\u001b[39m) at /cvmfs/software.physik.uni-bonn.de/common/julia/1.7.3/share/julia/stdlib/v1.7/LinearAlgebra/src/dense.jl:757\n\u001b[0m  log(\u001b[91m::UnitLowerTriangular\u001b[39m) at /cvmfs/software.physik.uni-bonn.de/common/julia/1.7.3/share/julia/stdlib/v1.7/LinearAlgebra/src/triangular.jl:1785\n\u001b[0m  log(\u001b[91m::UpperTriangular{T, S} where S<:AbstractMatrix{T}\u001b[39m) where T<:Union{Float32, Float64, ComplexF32, ComplexF64} at /cvmfs/software.physik.uni-bonn.de/common/julia/1.7.3/share/julia/stdlib/v1.7/LinearAlgebra/src/triangular.jl:1782\n\u001b[0m  ...",
     "output_type": "error",
     "traceback": [
      "MethodError: no method matching log(::Vector{ComplexF64})\n\u001b[0mClosest candidates are:\n\u001b[0m  log(\u001b[91m::StridedMatrix{T} where T\u001b[39m) at /cvmfs/software.physik.uni-bonn.de/common/julia/1.7.3/share/julia/stdlib/v1.7/LinearAlgebra/src/dense.jl:757\n\u001b[0m  log(\u001b[91m::UnitLowerTriangular\u001b[39m) at /cvmfs/software.physik.uni-bonn.de/common/julia/1.7.3/share/julia/stdlib/v1.7/LinearAlgebra/src/triangular.jl:1785\n\u001b[0m  log(\u001b[91m::UpperTriangular{T, S} where S<:AbstractMatrix{T}\u001b[39m) where T<:Union{Float32, Float64, ComplexF32, ComplexF64} at /cvmfs/software.physik.uni-bonn.de/common/julia/1.7.3/share/julia/stdlib/v1.7/LinearAlgebra/src/triangular.jl:1782\n\u001b[0m  ...",
      "",
      "Stacktrace:",
      " [1] top-level scope",
      "   @ In[51]:1",
      " [2] eval",
      "   @ ./boot.jl:373 [inlined]",
      " [3] include_string(mapexpr::typeof(REPL.softscope), mod::Module, code::String, filename::String)",
      "   @ Base ./loading.jl:1196"
     ]
    }
   ],
   "source": []
  },
  {
   "cell_type": "code",
   "execution_count": 87,
   "id": "suspended-underground",
   "metadata": {},
   "outputs": [
    {
     "data": {
      "text/plain": [
       "3-element Vector{ComplexF64}:\n",
       "  -3.644481248092801 - 5.119277100419475im\n",
       "  -3.644481248092801 + 5.119277100419475im\n",
       " -1.1129359684529774 + 0.0im"
      ]
     },
     "execution_count": 87,
     "metadata": {},
     "output_type": "execute_result"
    }
   ],
   "source": []
  },
  {
   "cell_type": "code",
   "execution_count": 88,
   "id": "helpful-parade",
   "metadata": {},
   "outputs": [
    {
     "data": {
      "text/plain": [
       "3-element Vector{ComplexF64}:\n",
       "                0.0 + 10.23855420083895im\n",
       " 2.5315452796398237 - 5.119277100419475im\n",
       " 14.514834433091572 + 0.0im"
      ]
     },
     "execution_count": 88,
     "metadata": {},
     "output_type": "execute_result"
    }
   ],
   "source": []
  },
  {
   "cell_type": "code",
   "execution_count": 8,
   "id": "impressive-enforcement",
   "metadata": {},
   "outputs": [
    {
     "data": {
      "text/plain": [
       "2×2 Matrix{ComplexF64}:\n",
       " 0.92388+0.0im           0.0-0.382683im\n",
       "     0.0-0.382683im  0.92388+0.0im"
      ]
     },
     "execution_count": 8,
     "metadata": {},
     "output_type": "execute_result"
    }
   ],
   "source": [
    "R(pi/4)"
   ]
  },
  {
   "cell_type": "code",
   "execution_count": 19,
   "id": "attached-jenny",
   "metadata": {},
   "outputs": [
    {
     "data": {
      "text/plain": [
       "3×3 Diagonal{Bool, Vector{Bool}}:\n",
       " 1  ⋅  ⋅\n",
       " ⋅  1  ⋅\n",
       " ⋅  ⋅  1"
      ]
     },
     "execution_count": 19,
     "metadata": {},
     "output_type": "execute_result"
    }
   ],
   "source": []
  },
  {
   "cell_type": "code",
   "execution_count": null,
   "id": "ecological-withdrawal",
   "metadata": {},
   "outputs": [],
   "source": []
  }
 ],
 "metadata": {
  "kernelspec": {
   "display_name": "Julia 1.7.3",
   "language": "julia",
   "name": "julia-1.7"
  },
  "language_info": {
   "file_extension": ".jl",
   "mimetype": "application/julia",
   "name": "julia",
   "version": "1.7.3"
  }
 },
 "nbformat": 4,
 "nbformat_minor": 5
}
