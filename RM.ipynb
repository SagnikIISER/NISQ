{
 "cells": [
  {
   "cell_type": "code",
   "execution_count": 1,
   "id": "prostate-alarm",
   "metadata": {},
   "outputs": [],
   "source": [
    "using LinearAlgebra \n",
    "using Kronecker\n",
    "using Plots\n",
    "using Random, Distributions"
   ]
  },
  {
   "cell_type": "code",
   "execution_count": 15,
   "id": "unique-balance",
   "metadata": {},
   "outputs": [
    {
     "data": {
      "text/plain": [
       "Normal{Float64}(μ=0.0, σ=0.05)"
      ]
     },
     "execution_count": 15,
     "metadata": {},
     "output_type": "execute_result"
    }
   ],
   "source": [
    "l = Normal(0, 0.10)\n",
    "d = Normal(0, 0.05)"
   ]
  },
  {
   "cell_type": "code",
   "execution_count": 40,
   "id": "peaceful-audience",
   "metadata": {},
   "outputs": [
    {
     "data": {
      "text/plain": [
       "2×2 Matrix{ComplexF64}:\n",
       " 0.0124882+0.0im        -0.352004+0.102597im\n",
       " -0.352004-0.102597im  -0.0451533+0.0im"
      ]
     },
     "execution_count": 40,
     "metadata": {},
     "output_type": "execute_result"
    }
   ],
   "source": [
    "A=rand(l,2,2)+im*rand(l,2,2);\n",
    "for i in 1:dim(A)\n",
    "    A[i,i]=rand(d)+im*rand(d);\n",
    "end\n",
    "A=A+A'"
   ]
  },
  {
   "cell_type": "code",
   "execution_count": 41,
   "id": "mathematical-afghanistan",
   "metadata": {},
   "outputs": [
    {
     "data": {
      "text/plain": [
       "2×2 Matrix{ComplexF64}:\n",
       "  0.933463+0.012932im  -0.105906-0.342438im\n",
       " 0.0946658-0.345714im   0.932543-0.0434114im"
      ]
     },
     "execution_count": 41,
     "metadata": {},
     "output_type": "execute_result"
    }
   ],
   "source": [
    "U=exp(im*A)"
   ]
  },
  {
   "cell_type": "code",
   "execution_count": 42,
   "id": "immediate-drill",
   "metadata": {},
   "outputs": [
    {
     "data": {
      "text/plain": [
       "2×2 Matrix{ComplexF64}:\n",
       " 1.0+0.0im          0.0+1.11022e-16im\n",
       " 0.0-1.11022e-16im  1.0+0.0im"
      ]
     },
     "execution_count": 42,
     "metadata": {},
     "output_type": "execute_result"
    }
   ],
   "source": [
    "U*U'"
   ]
  }
 ],
 "metadata": {
  "kernelspec": {
   "display_name": "Julia 1.7.3",
   "language": "julia",
   "name": "julia-1.7"
  },
  "language_info": {
   "file_extension": ".jl",
   "mimetype": "application/julia",
   "name": "julia",
   "version": "1.7.3"
  }
 },
 "nbformat": 4,
 "nbformat_minor": 5
}
