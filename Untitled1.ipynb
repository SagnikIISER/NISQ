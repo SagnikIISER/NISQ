{
 "cells": [
  {
   "cell_type": "code",
   "execution_count": 1,
   "id": "a5dd8c88",
   "metadata": {},
   "outputs": [],
   "source": [
    "using LinearAlgebra \n",
    "using Kronecker"
   ]
  },
  {
   "cell_type": "code",
   "execution_count": 2,
   "id": "bd0400ee",
   "metadata": {},
   "outputs": [],
   "source": [
    "X = [0 1 ; 1 0 ];\n",
    "Y = [0 -1im ; im 0 ];\n",
    "Z = [1 0 ; 0 -1 ];\n",
    "\n",
    "\n",
    "H=1/sqrt(2)*[1 1 ; 1 -1];\n",
    "\n",
    "S=[1 0; 0 im];\n",
    "T=[1 0; 0 exp(im*pi/4)];\n",
    "\n",
    "\n",
    "\n",
    "function RX(r)\n",
    "    exp(-im*r/2*X)\n",
    "end\n",
    "\n",
    "function RY(r)\n",
    "    exp(-im*r/2*Y)\n",
    "end\n",
    "\n",
    "function RZ(r)\n",
    "    exp(-im*r/2*Z)\n",
    "end\n",
    "\n",
    "\n",
    "CNOT=[1 0 0 0; 0 1 0 0; 0 0 0 1; 0 0 1 0];\n",
    "REVCNOT=kronecker(H, H)*CNOT*kronecker(H, H);\n",
    "\n",
    "\n",
    "\n",
    "\n",
    "\n",
    "o=pi/4;\n",
    "XRow=copy(kronecker(RX(o),RX(o),RX(o),RX(o),RX(o),RX(o),RX(o),RX(o),RX(o),RX(o),RX(o),RX(o)))\n",
    "ZRow=copy(kronecker(RZ(o),RZ(o),RZ(o),RZ(o),RZ(o),RZ(o),RZ(o),RZ(o),RZ(o),RZ(o),RZ(o),RZ(o)));\n",
    "UOdd=copy(kronecker(CNOT,CNOT,CNOT,CNOT,CNOT,CNOT))\n",
    "UEven=copy(kronecker(I(2),CNOT,CNOT,CNOT,CNOT,CNOT,I(2)));\n",
    "\n",
    "\n",
    "A=copy(XRow*ZRow*UEven*ZRow*XRow*UOdd*ZRow);"
   ]
  },
  {
   "cell_type": "code",
   "execution_count": 3,
   "id": "bab301ed",
   "metadata": {},
   "outputs": [],
   "source": [
    "EigA=eigvals(A);"
   ]
  },
  {
   "cell_type": "code",
   "execution_count": 4,
   "id": "a87c666b",
   "metadata": {},
   "outputs": [],
   "source": [
    "N=copy(EigA);\n",
    "\n",
    "for i in 1:length(N)\n",
    "    N[i]=real(log(EigA[i])/(-im));\n",
    "end"
   ]
  },
  {
   "cell_type": "code",
   "execution_count": 5,
   "id": "7d3ea605",
   "metadata": {},
   "outputs": [
    {
     "data": {
      "text/plain": [
       "4095-element Vector{ComplexF64}:\n",
       "      6.281288673666538 + 0.0im\n",
       "     -6.279926523703974 + 0.0im\n",
       " 0.00023832159336256709 + 0.0im\n",
       "      6.277428159820168 + 0.0im\n",
       "     -6.275565640770111 + 0.0im\n",
       "      6.274910316472101 + 0.0im\n",
       "     -6.273994097871632 + 0.0im\n",
       "      6.271374548798408 + 0.0im\n",
       "     -6.269395165849639 + 0.0im\n",
       "  0.0005849353773879074 + 0.0im\n",
       "     6.2675207909748405 + 0.0im\n",
       " -0.0009176727782391758 + 0.0im\n",
       "     -6.264708972836036 + 0.0im\n",
       "                        ⋮\n",
       "   0.017020647328044612 + 0.0im\n",
       "  -0.015261456882380483 + 0.0im\n",
       "   0.013515160689514714 + 0.0im\n",
       "  -0.011965458537504532 + 0.0im\n",
       "   0.011657029851685046 + 0.0im\n",
       "  -0.011055824756806852 + 0.0im\n",
       "    0.00894158226156274 + 0.0im\n",
       "  -0.006756487416727989 + 0.0im\n",
       "  0.0012850935421269756 + 0.0im\n",
       "   0.003423799519095474 + 0.0im\n",
       " -0.0010146296694987912 + 0.0im\n",
       " -0.0010476939296920548 + 0.0im"
      ]
     },
     "execution_count": 5,
     "metadata": {},
     "output_type": "execute_result"
    }
   ],
   "source": [
    "EigA1=copy(N);\n",
    "ls = deleteat!(EigA1,1);\n",
    "la = deleteat!(N,length(N));\n",
    "m=copy(ls-la)"
   ]
  },
  {
   "cell_type": "code",
   "execution_count": 6,
   "id": "fe4756d5",
   "metadata": {},
   "outputs": [
    {
     "ename": "LoadError",
     "evalue": "UndefVarError: histogram not defined",
     "output_type": "error",
     "traceback": [
      "UndefVarError: histogram not defined",
      "",
      "Stacktrace:",
      " [1] top-level scope",
      "   @ In[6]:1",
      " [2] eval",
      "   @ .\\boot.jl:373 [inlined]",
      " [3] include_string(mapexpr::typeof(REPL.softscope), mod::Module, code::String, filename::String)",
      "   @ Base .\\loading.jl:1196"
     ]
    }
   ],
   "source": []
  },
  {
   "cell_type": "code",
   "execution_count": null,
   "id": "60b74b55",
   "metadata": {},
   "outputs": [],
   "source": []
  }
 ],
 "metadata": {
  "kernelspec": {
   "display_name": "Julia 1.7.1",
   "language": "julia",
   "name": "julia-1.7"
  },
  "language_info": {
   "file_extension": ".jl",
   "mimetype": "application/julia",
   "name": "julia",
   "version": "1.7.1"
  }
 },
 "nbformat": 4,
 "nbformat_minor": 5
}
