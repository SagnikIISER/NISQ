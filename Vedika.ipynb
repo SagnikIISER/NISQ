{
 "cells": [
  {
   "cell_type": "code",
   "execution_count": 1,
   "id": "blocked-memorial",
   "metadata": {},
   "outputs": [
    {
     "name": "stderr",
     "output_type": "stream",
     "text": [
      "\n",
      "(process:3556): GLib-GIO-WARNING **: 18:20:54.190: Unexpectedly, UWP app `KDEe.V.Okular_22.801.1132.0_x64__7vt06qxq7ptv8' (AUMId `KDEe.V.Okular_7vt06qxq7ptv8!KDEe.V.Okular') supports 5 extensions but has no verbs\n"
     ]
    }
   ],
   "source": [
    "using LinearAlgebra \n",
    "using Kronecker\n",
    "using MKL\n",
    "using Plots, PyPlot\n",
    "using Random, Distributions\n",
    "using RandomMatrices"
   ]
  },
  {
   "cell_type": "code",
   "execution_count": 5,
   "id": "backed-colorado",
   "metadata": {},
   "outputs": [],
   "source": [
    "#Defining the Basic Gates\n",
    "\n",
    "\n",
    "\n",
    "#The X,Y,Z gates:\n",
    "\n",
    "X = [0 1 ; 1 0 ];\n",
    "Y = [0 -1im ; im 0 ];\n",
    "Z = [1 0 ; 0 -1 ];\n",
    "\n",
    "# The Hadamard and the Phase Gates:\n",
    "\n",
    "H=1/sqrt(2)*[1 1 ; 1 -1];\n",
    "S=[1 0; 0 im];\n",
    "T=[1 0; 0 exp(im*pi/4)];\n",
    "\n",
    "\n",
    "#The finite X,Y,Z Rotations:\n",
    "\n",
    "\n",
    "function RX(r)\n",
    "    exp(-im*r/2*X)\n",
    "end\n",
    "\n",
    "\n",
    "function RY(r)\n",
    "    exp(-im*r/2*Y)\n",
    "end\n",
    "\n",
    "\n",
    "function RZ(r)\n",
    "    exp(-im*r/2*Z)\n",
    "end\n",
    "\n",
    "\n",
    "#The two-body gates:\n",
    "\n",
    "CNOT=[1 0 0 0; 0 1 0 0; 0 0 0 1; 0 0 1 0];\n",
    "REVCNOT=kronecker(H, H)*CNOT*kronecker(H, H);"
   ]
  },
  {
   "cell_type": "code",
   "execution_count": 6,
   "id": "chinese-worship",
   "metadata": {},
   "outputs": [],
   "source": [
    "o=pi;\n",
    "h=rand(12)*2*pi;\n",
    "J=rand(12)*pi;\n",
    "XRow=copy(kronecker(RX(o),RX(o),RX(o),RX(o),RX(o),RX(o),RX(o),RX(o),RX(o),RX(o),RX(o),RX(o)));\n",
    "ZRow=copy(kronecker(RZ(h[1]),RZ(h[2]),RZ(h[3]),RZ(h[4]),RZ(h[5]),RZ(h[6]),RZ(h[7]),RZ(h[8]),RZ(h[9]),RZ(h[10]),RZ(h[11]),RZ(h[12])));\n"
   ]
  },
  {
   "cell_type": "code",
   "execution_count": 9,
   "id": "secret-loading",
   "metadata": {},
   "outputs": [],
   "source": [
    "FU=fill(fill(0.1+im, 4,4), 11);\n",
    "\n",
    "\n",
    "    for j in 1:length(FU)\n",
    "    fone=copy(kronecker(Z,Z))\n",
    "    FU[j]=exp(im*J[j]*fone);\n",
    "    end\n",
    "\n",
    "\n",
    "    \n",
    "    UOdd=copy(kronecker(FU[1],FU[2],FU[3],FU[4],FU[5],FU[6]));\n",
    "    UEven=copy(kronecker(I(2),FU[7],FU[8],FU[9],FU[10],FU[11],I(2)));\n",
    "\n",
    "\n"
   ]
  },
  {
   "cell_type": "code",
   "execution_count": null,
   "id": "52ac85dc",
   "metadata": {},
   "outputs": [],
   "source": [
    "A=XRow*UEven*UOdd\n",
    "    \n",
    "    \n",
    "    \n",
    "EigA=eigvals(A);\n",
    "\n",
    "N=fill(0.1,length(EigA))\n",
    "N=angle.(EigA);\n",
    "\n",
    "N= sort(N,rev=true);\n",
    "\n",
    "\n",
    "EigA1=copy(N);\n",
    "ls = deleteat!(EigA1,1);\n",
    "la = deleteat!(N,length(N));\n",
    "m=copy(la-ls)/mean(la-ls)\n",
    "\n",
    "histogram(m)"
   ]
  },
  {
   "cell_type": "code",
   "execution_count": null,
   "id": "e5db24cd",
   "metadata": {},
   "outputs": [],
   "source": [
    "\n",
    "n=fill(0.1,length(EigA)-2);\n",
    "\n",
    "for i in 1:length(n)\n",
    "    #n[i]=m[i+1]/m[i];\n",
    "    n[i]= minimum([m[i], m[i+1]])/maximum([m[i], m[i+1]]);\n",
    "end\n",
    "\n",
    "histogram(n)"
   ]
  },
  {
   "cell_type": "code",
   "execution_count": 17,
   "id": "floating-prototype",
   "metadata": {},
   "outputs": [
    {
     "data": {
      "text/plain": [
       "0.2451725802207241"
      ]
     },
     "execution_count": 17,
     "metadata": {},
     "output_type": "execute_result"
    }
   ],
   "source": [
    "mean(n)"
   ]
  },
  {
   "cell_type": "code",
   "execution_count": null,
   "id": "promotional-halifax",
   "metadata": {},
   "outputs": [],
   "source": [
    "polar.(Base.vect.(0.0,angle.(EigA)),Base.vect.(0.0,abs.(EigA)),marker=\"o\")"
   ]
  },
  {
   "cell_type": "code",
   "execution_count": 48,
   "id": "iraqi-elite",
   "metadata": {},
   "outputs": [],
   "source": [
    "\n",
    "gr();\n",
    " \n",
    "#plot\n",
    "histogram(n)\n",
    "#save plot\n",
    "Plots.savefig(\"fig/DTC-Kick0.3.png\")"
   ]
  },
  {
   "cell_type": "markdown",
   "id": "sublime-miller",
   "metadata": {},
   "source": [
    "DTC"
   ]
  },
  {
   "cell_type": "code",
   "execution_count": 13,
   "id": "whole-boost",
   "metadata": {},
   "outputs": [],
   "source": [
    "Zi=fill(fill(0.1+im, 4096,4096), 12);\n",
    "\n",
    "\n",
    "\n",
    "Zi[1]=copy(kronecker(Z,I(2),I(2),I(2),I(2),I(2),I(2),I(2),I(2),I(2),I(2),I(2)));\n",
    "Zi[2]=copy(kronecker(I(2),Z,I(2),I(2),I(2),I(2),I(2),I(2),I(2),I(2),I(2),I(2)));\n",
    "Zi[3]=copy(kronecker(I(2),I(2),Z,I(2),I(2),I(2),I(2),I(2),I(2),I(2),I(2),I(2)));\n",
    "Zi[4]=copy(kronecker(I(2),I(2),I(2),Z,I(2),I(2),I(2),I(2),I(2),I(2),I(2),I(2)));\n",
    "Zi[5]=copy(kronecker(I(2),I(2),I(2),I(2),Z,I(2),I(2),I(2),I(2),I(2),I(2),I(2)));\n",
    "Zi[6]=copy(kronecker(I(2),I(2),I(2),I(2),I(2),Z,I(2),I(2),I(2),I(2),I(2),I(2)));\n",
    "Zi[7]=copy(kronecker(I(2),I(2),I(2),I(2),I(2),I(2),Z,I(2),I(2),I(2),I(2),I(2)));\n",
    "Zi[8]=copy(kronecker(I(2),I(2),I(2),I(2),I(2),I(2),I(2),Z,I(2),I(2),I(2),I(2)));\n",
    "Zi[9]=copy(kronecker(I(2),I(2),I(2),I(2),I(2),I(2),I(2),I(2),Z,I(2),I(2),I(2)));\n",
    "Zi[10]=copy(kronecker(I(2),I(2),I(2),I(2),I(2),I(2),I(2),I(2),I(2),Z,I(2),I(2)));\n",
    "Zi[11]=copy(kronecker(I(2),I(2),I(2),I(2),I(2),I(2),I(2),I(2),I(2),I(2),Z,I(2)));\n",
    "Zi[12]=copy(kronecker(I(2),I(2),I(2),I(2),I(2),I(2),I(2),I(2),I(2),I(2),I(2),Z));"
   ]
  },
  {
   "cell_type": "code",
   "execution_count": 14,
   "id": "wooden-adoption",
   "metadata": {},
   "outputs": [],
   "source": [
    "Cii=fill(0.1, 12,25);"
   ]
  },
  {
   "cell_type": "code",
   "execution_count": null,
   "id": "above-elite",
   "metadata": {},
   "outputs": [],
   "source": [
    "At=I(4096);\n",
    "for t in 1:25\n",
    "   # for l in 1:12\n",
    "        LM=copy(Zi[5]*At*Zi[5]);\n",
    "        Cii[5,t]=real(LM[1366,1366]);\n",
    "  #  end\n",
    "    At=A*At;\n",
    "end"
   ]
  },
  {
   "cell_type": "code",
   "execution_count": null,
   "id": "studied-lobby",
   "metadata": {},
   "outputs": [],
   "source": [
    "xax=1:25\n",
    "Plots.plot(xax,Cii[5,:])"
   ]
  },
  {
   "cell_type": "code",
   "execution_count": null,
   "id": "d4e223f2",
   "metadata": {},
   "outputs": [],
   "source": []
  }
 ],
 "metadata": {
  "kernelspec": {
   "display_name": "Julia 1.7.1",
   "language": "julia",
   "name": "julia-1.7"
  },
  "language_info": {
   "file_extension": ".jl",
   "mimetype": "application/julia",
   "name": "julia",
   "version": "1.7.1"
  }
 },
 "nbformat": 4,
 "nbformat_minor": 5
}
